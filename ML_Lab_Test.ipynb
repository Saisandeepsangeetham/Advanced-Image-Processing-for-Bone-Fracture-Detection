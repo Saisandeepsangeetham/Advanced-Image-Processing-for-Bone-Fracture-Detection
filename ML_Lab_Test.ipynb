{
  "nbformat": 4,
  "nbformat_minor": 0,
  "metadata": {
    "colab": {
      "provenance": [],
      "authorship_tag": "ABX9TyOlCnF7hBKd28kxg5NfL7Es",
      "include_colab_link": true
    },
    "kernelspec": {
      "name": "python3",
      "display_name": "Python 3"
    },
    "language_info": {
      "name": "python"
    }
  },
  "cells": [
    {
      "cell_type": "markdown",
      "metadata": {
        "id": "view-in-github",
        "colab_type": "text"
      },
      "source": [
        "<a href=\"https://colab.research.google.com/github/Saisandeepsangeetham/Advanced-Image-Processing-for-Bone-Fracture-Detection/blob/main/ML_Lab_Test.ipynb\" target=\"_parent\"><img src=\"https://colab.research.google.com/assets/colab-badge.svg\" alt=\"Open In Colab\"/></a>"
      ]
    },
    {
      "cell_type": "code",
      "execution_count": 1,
      "metadata": {
        "id": "S54Ad2A5suOQ"
      },
      "outputs": [],
      "source": [
        "import pandas as pd\n",
        "import numpy as np\n",
        "import matplotlib.pyplot as plt\n",
        "import seaborn as sns"
      ]
    },
    {
      "cell_type": "code",
      "source": [
        "from sklearn.preprocessing import LabelEncoder, MinMaxScaler, StandardScaler\n",
        "\n",
        "\n",
        "from sklearn.model_selection import train_test_split\n",
        "\n",
        "from sklearn.linear_model import LogisticRegression\n",
        "from sklearn.linear_model import LinearRegression\n",
        "from sklearn.neighbors import KNeighborsClassifier\n",
        "from sklearn.tree import DecisionTreeClassifier\n",
        "from sklearn.ensemble import RandomForestClassifier\n",
        "from sklearn.svm import SVC\n",
        "from sklearn.naive_bayes import GaussianNB\n",
        "from sklearn.linear_model import Perceptron\n",
        "from sklearn.linear_model import Perceptron\n",
        "\n",
        "from sklearn.metrics import ConfusionMatrixDisplay\n",
        "from sklearn.metrics import accuracy_score, classification_report, confusion_matrix\n",
        "from sklearn.metrics import mean_squared_error, r2_score\n",
"from sklearn.decomposition import PCA\n
from sklearn.discriminant_analysis import LinearDiscriminantAnalysis as LDA\n"
        "\n"
      ],
      "metadata": {
        "id": "05MEqzzwza3v"
      },
      "execution_count": 110,
      "outputs": []
    },
    {
      "cell_type": "code",
      "source": [
        "help(pd)"
      ],
      "metadata": {
        "collapsed": true,
        "id": "HUGI5ONXs7Vw"
      },
      "execution_count": null,
      "outputs": []
    },
    {
      "cell_type": "code",
      "source": [
        "help(np)"
      ],
      "metadata": {
        "collapsed": true,
        "id": "iI_g32xJs9ld"
      },
      "execution_count": null,
      "outputs": []
    },
    {
      "cell_type": "code",
      "source": [
        "import kagglehub\n",
        "import warnings\n",
        "\n",
        "warnings.filterwarnings(\"ignore\")\n",
        "\n",
        "# Download latest version\n",
        "path = kagglehub.dataset_download(\"phileinsophos/predict-loan-amount-data\")\n",
        "\n",
        "print(\"Path to dataset files:\", path)"
      ],
      "metadata": {
        "id": "uqxWcgnrtcmm"
      },
      "execution_count": null,
      "outputs": []
    },
    {
      "cell_type": "code",
      "source": [
        "df = pd.read_csv('/root/.cache/kagglehub/datasets/phileinsophos/predict-loan-amount-data/versions/1/train.csv', usecols=['Income (USD)',\n",
        "    'Income Stability',\n",
        "    'Profession',\n",
        "    'Location',\n",
        "    'Credit Score',\n",
        "    'No. of Defaults',\n",
        "    'Has Active Credit Card',\n",
        "    'Property Price',\n",
        "    'Property Location',\n",
        "    'Loan Amount Request (USD)',\n",
        "    'Dependents',\n",
        "    'Property Age','Loan Sanction Amount (USD)']);"
      ],
      "metadata": {
        "id": "yqhnrf4O0V-w"
      },
      "execution_count": 74,
      "outputs": []
    },
    {
      "cell_type": "code",
      "source": [
        "df.head()"
      ],
      "metadata": {
        "id": "CK5MY0ZAuTa0"
      },
      "execution_count": null,
      "outputs": []
    },
    {
      "cell_type": "code",
      "source": [
        "df.columns"
      ],
      "metadata": {
        "id": "cfwhg-mZuVqX"
      },
      "execution_count": null,
      "outputs": []
    },
    {
      "cell_type": "code",
      "source": [
        "x = df.drop(columns=[\"Loan Sanction Amount (USD)\"])"
      ],
      "metadata": {
        "id": "aoKNyU3JwpmV"
      },
      "execution_count": 77,
      "outputs": []
    },
    {
      "cell_type": "code",
      "source": [
        "x.columns"
      ],
      "metadata": {
        "id": "FHrJDtBLwspo"
      },
      "execution_count": null,
      "outputs": []
    },
    {
      "cell_type": "code",
      "source": [
        "y = df[\"Loan Sanction Amount (USD)\"]\n",
        "y.head()"
      ],
      "metadata": {
        "id": "pUgSR9Jyw86L"
      },
      "execution_count": null,
      "outputs": []
    },
    {
      "cell_type": "code",
      "source": [
        "df.shape"
      ],
      "metadata": {
        "id": "j2YKRnl0zKXQ"
      },
      "execution_count": null,
      "outputs": []
    },
    {
      "cell_type": "code",
      "source": [
        "df.info()"
      ],
      "metadata": {
        "id": "Wrvae5xfxA52"
      },
      "execution_count": null,
      "outputs": []
    },
    {
      "cell_type": "code",
      "source": [
        "df.describe()"
      ],
      "metadata": {
        "id": "SqjuDMUAxJic"
      },
      "execution_count": null,
      "outputs": []
    },
    {
      "cell_type": "code",
      "source": [
        "df.isna().sum()"
      ],
      "metadata": {
        "id": "rDw5J_-SxLIR"
      },
      "execution_count": null,
      "outputs": []
    },
    {
      "cell_type": "code",
      "source": [
        "df['Income (USD)'] = df['Income (USD)'].fillna(df['Income (USD)'].median())\n",
        "df.isnull().sum()"
      ],
      "metadata": {
        "id": "tRqaGnvLyGy1"
      },
      "execution_count": null,
      "outputs": []
    },
    {
      "cell_type": "code",
      "source": [
        "df = df.dropna()"
      ],
      "metadata": {
        "id": "GyTuwsIyx-bX"
      },
      "execution_count": 86,
      "outputs": []
    },
    {
      "cell_type": "code",
      "source": [
        "label = LabelEncoder()\n",
        "\n",
        "df['Income Stability'] = label.fit_transform(df['Income Stability'])\n",
        "df.head()"
      ],
      "metadata": {
        "id": "MLj1OPLC1Ww7"
      },
      "execution_count": null,
      "outputs": []
    },
    {
      "cell_type": "code",
      "source": [
        "mapping = dict(zip(label.classes_, label.transform(label.classes_)))\n",
        "print(mapping)"
      ],
      "metadata": {
        "id": "eHheodOH12lS"
      },
      "execution_count": null,
      "outputs": []
    },
    {
      "cell_type": "code",
      "source": [
        "columns = ['Profession', 'Location', 'Has Active Credit Card', 'Property Location']\n",
        "label_map = {}\n",
        "\n",
        "for col in columns:\n",
        "    df[col] = label.fit_transform(df[col])\n",
        "    label_map[col] = dict(zip(label.classes_, label.transform(label.classes_)))\n",
        "\n",
        "print(label_map)"
      ],
      "metadata": {
        "id": "LI4jJLwC2SkB"
      },
      "execution_count": null,
      "outputs": []
    },
    {
      "cell_type": "code",
      "source": [
        "df.columns"
      ],
      "metadata": {
        "id": "poKKomRe4QJA"
      },
      "execution_count": null,
      "outputs": []
    },
    {
      "cell_type": "code",
      "source": [
        "help(LabelEncoder)"
      ],
      "metadata": {
        "id": "wZLvzEVU7AZz"
      },
      "execution_count": null,
      "outputs": []
    },
    {
      "cell_type": "code",
      "source": [
        "scaler = StandardScaler()\n",
        "\n",
        "x = df.drop(columns=[\"Loan Amount Request (USD)\"])\n",
        "y = df[\"Loan Amount Request (USD)\"]\n",
        "df_standardized = pd.DataFrame(scaler.fit_transform(x),columns = x.columns)\n",
        "\n",
        "df_standardized.head()"
      ],
      "metadata": {
        "id": "ZxFBiO027Q4m"
      },
      "execution_count": null,
      "outputs": []
    },
    {
      "cell_type": "code",
      "source": [
        "numerical_colums = ['Loan Amount Request (USD)', 'Income (USD)', 'Property Price']\n",
        "\n",
        "for col in numerical_colums:\n",
        "    plt.figure(figsize = (12,9))\n",
        "    plt.subplot(1,2,1)\n",
        "    df[col].hist(bins = 40,edgecolor = 'black')\n",
        "    plt.title(f\"Distribution of{col}\")\n",
        "    plt.xlabel(col)\n",
        "    plt.ylabel(\"Frequency\")\n"
      ],
      "metadata": {
        "id": "1_O0_4y73WeW"
      },
      "execution_count": null,
      "outputs": []
    },
    {
      "cell_type": "code",
      "source": [
        "correlation_matrix = df_standardized.corr()\n",
        "sns.heatmap(correlation_matrix,annot = True,cmap = 'coolwarm')\n",
        "plt.show()"
      ],
      "metadata": {
        "id": "O6DHvbse9krK"
      },
      "execution_count": null,
      "outputs": []
    },
    {
      "cell_type": "code",
      "source": [
        "help(plt.scatter)"
      ],
      "metadata": {
        "collapsed": true,
        "id": "S3ILtLkD9-4q"
      },
      "execution_count": null,
      "outputs": []
    },
    {
      "cell_type": "code",
      "source": [
        "for col in x.columns:\n",
        "    plt.figure(figsize = (12,9))\n",
        "    plt.subplot(1,2,1)\n",
        "    plt.scatter(x[col],y,alpha = 0.6)\n",
        "    plt.title(f\"Distribution of {col} vs Target\")\n",
        "    plt.xlabel(col)\n",
        "    plt.ylabel(\"Loan Amount Request (USD)\")\n",
        "    plt.show()"
      ],
      "metadata": {
        "collapsed": true,
        "id": "umivM8a1_Y-l"
      },
      "execution_count": null,
      "outputs": []
    },
    {
      "cell_type": "code",
      "source": [
        "for col in x.columns:\n",
        "    plt.figure(figsize = (12,9))\n",
        "    plt.subplot(1,2,1)\n",
        "    sns.boxplot(x = x[col])\n",
        "    plt.title(f\"Box Plot of {col} after standardization\")\n",
        "    plt.show()"
      ],
      "metadata": {
        "id": "ELJ0Q5n2Aa5x"
      },
      "execution_count": null,
      "outputs": []
    },
    {
      "cell_type": "code",
      "source": [
        "x_train , x_test, y_train , y_test =  train_test_split(x,y,test_size = 0.2, random_state = 42)\n",
        "\n",
        "x_train.shape, x_test.shape, y_train.shape, y_test.shape"
      ],
      "metadata": {
        "id": "ufZUE22vCKA8"
      },
      "execution_count": null,
      "outputs": []
    },
    {
      "cell_type": "code",
      "source": [
        "from sklearn.linear_model import LinearRegression\n",
        "from sklearn.metrics import mean_squared_error, r2_score\n",
        "\n",
        "model = LinearRegression()\n",
        "\n",
        "model.fit(x_train,y_train)\n",
        "\n",
        "y_pred = model.predict(x_test)\n",
        "\n",
        "mse = mean_squared_error(y_test,y_pred)\n",
        "r2 = r2_score(y_test,y_pred)\n",
        "\n",
        "print(mse)\n",
        "print(r2)"
      ],
      "metadata": {
        "id": "kvwrtR72ESeL"
      },
      "execution_count": null,
      "outputs": []
    },
    {
      "cell_type": "code",
      "source": [
        "disp = ConfusionMatrixDisplay(confusion_matrix=conf_matrix, display_labels=nb_model.classes_)\n",
        "disp.plot(cmap='Blues')\n",
        "plt.title('Confusion Matrix')\n",
        "plt.show()"
      ],
      "metadata": {
        "id": "m_ZZy0zlRdhq"
      },
      "execution_count": null,
      "outputs": []
    },
    {
      "cell_type": "code",
      "source": [
        "X_train, X_test, y_train, y_test = train_test_split(X, y, test_size=0.2, random_state=42)\n",
        "\n",
        "### **1️⃣ PCA (Principal Component Analysis)**\n",
        "pca = PCA(n_components=2)  # Reduce to 2 components\n",
        "X_train_pca = pca.fit_transform(X_train)\n",
        "X_test_pca = pca.transform(X_test)"
      ],
      "metadata": {
        "id": "B5DdfLUlF0Ax"
      },
      "execution_count": null,
      "outputs": []
    },
    {
      "cell_type": "code",
      "source": [
        "lda = LDA(n_components=1)  # Reduce to 1 component\n",
        "X_train_lda = lda.fit_transform(X_train, y_train)\n",
        "X_test_lda = lda.transform(X_test)"
      ],
      "metadata": {
        "id": "4jJgR5UqQOuu"
      },
      "execution_count": null,
      "outputs": []
    },
    {
      "cell_type": "code",
      "source": [
        "# Load dataset\n",
        "df = pd.read_csv(\"data.csv\")\n",
        "X = df.drop(columns=[\"target_column\"])  # Features\n",
        "y = df[\"target_column\"]  # Target\n",
        "\n",
        "# Split data\n",
        "X_train, X_test, y_train, y_test = train_test_split(X, y, test_size=0.2, random_state=42)\n",
        "\n",
        "# Train Perceptron model\n",
        "model = Perceptron(max_iter=1000, eta0=0.01, random_state=42)\n",
        "model.fit(X_train, y_train)\n",
        "\n",
        "# Predictions\n",
        "y_pred = model.predict(X_test)\n",
        "\n"
      ],
      "metadata": {
        "id": "2WRvS7dBQZ5n"
      },
      "execution_count": null,
      "outputs": []
    }
  ]
}
